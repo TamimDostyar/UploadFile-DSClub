{
 "cells": [
  {
   "cell_type": "code",
   "execution_count": 6,
   "id": "b26c5bd2-db11-4abf-8bec-c57152832c66",
   "metadata": {},
   "outputs": [],
   "source": [
    "disease=\"Gray Leaf Spot\" #this comes form model\n",
    "humidity = 0.60\n",
    "max_temperature = 52\n",
    "min_temperature = 40\n",
    "temp = (max_temperature + min_temperature)/2\n"
   ]
  },
  {
   "cell_type": "code",
   "execution_count": 7,
   "id": "3b4a91de-2d2c-42bf-9f9b-696dd2c822be",
   "metadata": {},
   "outputs": [],
   "source": [
    "def checkspread(disease,humidity,temperature):\n",
    "    if disease == \"Healthy\":\n",
    "        spread = \"Spread Unlikely\"\n",
    "\n",
    "    elif disease == \"Common Rust\":\n",
    "        if humidity >= 0.95 and (temperature <= 77 and temperature >= 60):\n",
    "            spread = \"Spread likely\"\n",
    "        else: spread = \"Spread Unlikely\"\n",
    "\n",
    "    elif disease == \"Gray Leaf Spot\":\n",
    "        if humidity >= 0.90 and (temperature <= 85 and temperature >= 75):\n",
    "            spread = \"Spread likely\"\n",
    "        else: spread = \"Spread Unlikely\"\n",
    "\n",
    "    elif disease == \"Blight\":\n",
    "        if humidity >= 0.60 and (temperature <= 81 and temperature >= 64):\n",
    "            spread = \"Spread likely\"\n",
    "        else: spread = \"Spread Unlikely\"\n",
    "        \n",
    "    return spread\n",
    "    "
   ]
  },
  {
   "cell_type": "code",
   "execution_count": 8,
   "id": "5a612887-dae2-4ccc-beda-7366a9960918",
   "metadata": {},
   "outputs": [],
   "source": [
    "spread = checkspread(disease,humidity,temp)"
   ]
  },
  {
   "cell_type": "code",
   "execution_count": 9,
   "id": "3d931d6f-b82a-456d-8dcc-2c662f7a86f4",
   "metadata": {},
   "outputs": [
    {
     "data": {
      "text/plain": [
       "'Spread Unlikely'"
      ]
     },
     "execution_count": 9,
     "metadata": {},
     "output_type": "execute_result"
    }
   ],
   "source": [
    "spread"
   ]
  },
  {
   "cell_type": "code",
   "execution_count": null,
   "id": "5fe31da4",
   "metadata": {},
   "outputs": [],
   "source": []
  }
 ],
 "metadata": {
  "kernelspec": {
   "display_name": ".venv",
   "language": "python",
   "name": "python3"
  },
  "language_info": {
   "codemirror_mode": {
    "name": "ipython",
    "version": 3
   },
   "file_extension": ".py",
   "mimetype": "text/x-python",
   "name": "python",
   "nbconvert_exporter": "python",
   "pygments_lexer": "ipython3",
   "version": "3.10.16"
  }
 },
 "nbformat": 4,
 "nbformat_minor": 5
}
